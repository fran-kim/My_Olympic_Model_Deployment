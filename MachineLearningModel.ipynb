{
 "cells": [
  {
   "cell_type": "code",
   "execution_count": 15,
   "id": "323d7dde",
   "metadata": {},
   "outputs": [],
   "source": [
    "import pandas as pd\n",
    "import numpy as np\n",
    "import matplotlib.pyplot as plt\n",
    "import seaborn as sns\n",
    "from sklearn.linear_model import LinearRegression"
   ]
  },
  {
   "cell_type": "code",
   "execution_count": 16,
   "id": "6340e7a2",
   "metadata": {},
   "outputs": [],
   "source": [
    "data = pd.read_csv('/Users/Francis/Desktop/machinelearning/weightlifting.csv')"
   ]
  },
  {
   "cell_type": "code",
   "execution_count": 17,
   "id": "9289985b",
   "metadata": {},
   "outputs": [
    {
     "data": {
      "text/html": [
       "<div>\n",
       "<style scoped>\n",
       "    .dataframe tbody tr th:only-of-type {\n",
       "        vertical-align: middle;\n",
       "    }\n",
       "\n",
       "    .dataframe tbody tr th {\n",
       "        vertical-align: top;\n",
       "    }\n",
       "\n",
       "    .dataframe thead th {\n",
       "        text-align: right;\n",
       "    }\n",
       "</style>\n",
       "<table border=\"1\" class=\"dataframe\">\n",
       "  <thead>\n",
       "    <tr style=\"text-align: right;\">\n",
       "      <th></th>\n",
       "      <th>Unnamed: 0</th>\n",
       "      <th>Athlete</th>\n",
       "      <th>Bodyweight</th>\n",
       "      <th>Snatch</th>\n",
       "      <th>Clean&amp;Jerk</th>\n",
       "      <th>Total</th>\n",
       "      <th>Ranking</th>\n",
       "      <th>Title</th>\n",
       "      <th>Year</th>\n",
       "      <th>Gender</th>\n",
       "    </tr>\n",
       "  </thead>\n",
       "  <tbody>\n",
       "    <tr>\n",
       "      <th>0</th>\n",
       "      <td>0</td>\n",
       "      <td>Halil Mutlu (TUR)</td>\n",
       "      <td>55.62</td>\n",
       "      <td>137.5</td>\n",
       "      <td>167.5</td>\n",
       "      <td>305.0</td>\n",
       "      <td>1</td>\n",
       "      <td>Weightlifting at the 2000 Summer Olympics – Me...</td>\n",
       "      <td>2000</td>\n",
       "      <td>Men</td>\n",
       "    </tr>\n",
       "    <tr>\n",
       "      <th>1</th>\n",
       "      <td>1</td>\n",
       "      <td>Wu Wenxiong (CHN)</td>\n",
       "      <td>55.48</td>\n",
       "      <td>125.0</td>\n",
       "      <td>162.5</td>\n",
       "      <td>287.5</td>\n",
       "      <td>2</td>\n",
       "      <td>Weightlifting at the 2000 Summer Olympics – Me...</td>\n",
       "      <td>2000</td>\n",
       "      <td>Men</td>\n",
       "    </tr>\n",
       "    <tr>\n",
       "      <th>2</th>\n",
       "      <td>2</td>\n",
       "      <td>Zhang Xiangxiang (CHN)</td>\n",
       "      <td>55.94</td>\n",
       "      <td>125.0</td>\n",
       "      <td>162.5</td>\n",
       "      <td>287.5</td>\n",
       "      <td>3</td>\n",
       "      <td>Weightlifting at the 2000 Summer Olympics – Me...</td>\n",
       "      <td>2000</td>\n",
       "      <td>Men</td>\n",
       "    </tr>\n",
       "    <tr>\n",
       "      <th>3</th>\n",
       "      <td>3</td>\n",
       "      <td>Wang Shin-yuan (TPE)</td>\n",
       "      <td>55.38</td>\n",
       "      <td>125.0</td>\n",
       "      <td>160.0</td>\n",
       "      <td>285.0</td>\n",
       "      <td>4</td>\n",
       "      <td>Weightlifting at the 2000 Summer Olympics – Me...</td>\n",
       "      <td>2000</td>\n",
       "      <td>Men</td>\n",
       "    </tr>\n",
       "    <tr>\n",
       "      <th>4</th>\n",
       "      <td>4</td>\n",
       "      <td>Sergio Álvarez (CUB)</td>\n",
       "      <td>55.66</td>\n",
       "      <td>120.0</td>\n",
       "      <td>155.0</td>\n",
       "      <td>275.0</td>\n",
       "      <td>5</td>\n",
       "      <td>Weightlifting at the 2000 Summer Olympics – Me...</td>\n",
       "      <td>2000</td>\n",
       "      <td>Men</td>\n",
       "    </tr>\n",
       "  </tbody>\n",
       "</table>\n",
       "</div>"
      ],
      "text/plain": [
       "   Unnamed: 0                 Athlete  Bodyweight  Snatch  Clean&Jerk   Total  \\\n",
       "0           0       Halil Mutlu (TUR)       55.62   137.5        167.5  305.0   \n",
       "1           1       Wu Wenxiong (CHN)       55.48   125.0        162.5  287.5   \n",
       "2           2  Zhang Xiangxiang (CHN)       55.94   125.0        162.5  287.5   \n",
       "3           3    Wang Shin-yuan (TPE)       55.38   125.0        160.0  285.0   \n",
       "4           4    Sergio Álvarez (CUB)       55.66   120.0        155.0  275.0   \n",
       "\n",
       "   Ranking                                              Title  Year Gender  \n",
       "0        1  Weightlifting at the 2000 Summer Olympics – Me...  2000    Men  \n",
       "1        2  Weightlifting at the 2000 Summer Olympics – Me...  2000    Men  \n",
       "2        3  Weightlifting at the 2000 Summer Olympics – Me...  2000    Men  \n",
       "3        4  Weightlifting at the 2000 Summer Olympics – Me...  2000    Men  \n",
       "4        5  Weightlifting at the 2000 Summer Olympics – Me...  2000    Men  "
      ]
     },
     "execution_count": 17,
     "metadata": {},
     "output_type": "execute_result"
    }
   ],
   "source": [
    "data.head()"
   ]
  },
  {
   "cell_type": "code",
   "execution_count": 18,
   "id": "a9b18cbb",
   "metadata": {},
   "outputs": [
    {
     "data": {
      "text/html": [
       "<div>\n",
       "<style scoped>\n",
       "    .dataframe tbody tr th:only-of-type {\n",
       "        vertical-align: middle;\n",
       "    }\n",
       "\n",
       "    .dataframe tbody tr th {\n",
       "        vertical-align: top;\n",
       "    }\n",
       "\n",
       "    .dataframe thead th {\n",
       "        text-align: right;\n",
       "    }\n",
       "</style>\n",
       "<table border=\"1\" class=\"dataframe\">\n",
       "  <thead>\n",
       "    <tr style=\"text-align: right;\">\n",
       "      <th></th>\n",
       "      <th>unnamed: 0</th>\n",
       "      <th>athlete</th>\n",
       "      <th>bodyweight</th>\n",
       "      <th>snatch</th>\n",
       "      <th>clean&amp;jerk</th>\n",
       "      <th>total</th>\n",
       "      <th>ranking</th>\n",
       "      <th>title</th>\n",
       "      <th>year</th>\n",
       "      <th>gender</th>\n",
       "    </tr>\n",
       "  </thead>\n",
       "  <tbody>\n",
       "    <tr>\n",
       "      <th>0</th>\n",
       "      <td>0</td>\n",
       "      <td>Halil Mutlu (TUR)</td>\n",
       "      <td>55.62</td>\n",
       "      <td>137.5</td>\n",
       "      <td>167.5</td>\n",
       "      <td>305.0</td>\n",
       "      <td>1</td>\n",
       "      <td>Weightlifting at the 2000 Summer Olympics – Me...</td>\n",
       "      <td>2000</td>\n",
       "      <td>Men</td>\n",
       "    </tr>\n",
       "    <tr>\n",
       "      <th>1</th>\n",
       "      <td>1</td>\n",
       "      <td>Wu Wenxiong (CHN)</td>\n",
       "      <td>55.48</td>\n",
       "      <td>125.0</td>\n",
       "      <td>162.5</td>\n",
       "      <td>287.5</td>\n",
       "      <td>2</td>\n",
       "      <td>Weightlifting at the 2000 Summer Olympics – Me...</td>\n",
       "      <td>2000</td>\n",
       "      <td>Men</td>\n",
       "    </tr>\n",
       "    <tr>\n",
       "      <th>2</th>\n",
       "      <td>2</td>\n",
       "      <td>Zhang Xiangxiang (CHN)</td>\n",
       "      <td>55.94</td>\n",
       "      <td>125.0</td>\n",
       "      <td>162.5</td>\n",
       "      <td>287.5</td>\n",
       "      <td>3</td>\n",
       "      <td>Weightlifting at the 2000 Summer Olympics – Me...</td>\n",
       "      <td>2000</td>\n",
       "      <td>Men</td>\n",
       "    </tr>\n",
       "    <tr>\n",
       "      <th>3</th>\n",
       "      <td>3</td>\n",
       "      <td>Wang Shin-yuan (TPE)</td>\n",
       "      <td>55.38</td>\n",
       "      <td>125.0</td>\n",
       "      <td>160.0</td>\n",
       "      <td>285.0</td>\n",
       "      <td>4</td>\n",
       "      <td>Weightlifting at the 2000 Summer Olympics – Me...</td>\n",
       "      <td>2000</td>\n",
       "      <td>Men</td>\n",
       "    </tr>\n",
       "    <tr>\n",
       "      <th>4</th>\n",
       "      <td>4</td>\n",
       "      <td>Sergio Álvarez (CUB)</td>\n",
       "      <td>55.66</td>\n",
       "      <td>120.0</td>\n",
       "      <td>155.0</td>\n",
       "      <td>275.0</td>\n",
       "      <td>5</td>\n",
       "      <td>Weightlifting at the 2000 Summer Olympics – Me...</td>\n",
       "      <td>2000</td>\n",
       "      <td>Men</td>\n",
       "    </tr>\n",
       "  </tbody>\n",
       "</table>\n",
       "</div>"
      ],
      "text/plain": [
       "   unnamed: 0                 athlete  bodyweight  snatch  clean&jerk  total  \\\n",
       "0           0       Halil Mutlu (TUR)       55.62   137.5       167.5  305.0   \n",
       "1           1       Wu Wenxiong (CHN)       55.48   125.0       162.5  287.5   \n",
       "2           2  Zhang Xiangxiang (CHN)       55.94   125.0       162.5  287.5   \n",
       "3           3    Wang Shin-yuan (TPE)       55.38   125.0       160.0  285.0   \n",
       "4           4    Sergio Álvarez (CUB)       55.66   120.0       155.0  275.0   \n",
       "\n",
       "   ranking                                              title  year gender  \n",
       "0        1  Weightlifting at the 2000 Summer Olympics – Me...  2000    Men  \n",
       "1        2  Weightlifting at the 2000 Summer Olympics – Me...  2000    Men  \n",
       "2        3  Weightlifting at the 2000 Summer Olympics – Me...  2000    Men  \n",
       "3        4  Weightlifting at the 2000 Summer Olympics – Me...  2000    Men  \n",
       "4        5  Weightlifting at the 2000 Summer Olympics – Me...  2000    Men  "
      ]
     },
     "execution_count": 18,
     "metadata": {},
     "output_type": "execute_result"
    }
   ],
   "source": [
    "data = data.drop_duplicates()\n",
    "data = data.dropna()\n",
    "#Changing the column names to lower case\n",
    "data.columns = [ x.lower().strip() for x in data.columns]\n",
    "data.head()"
   ]
  },
  {
   "cell_type": "code",
   "execution_count": 19,
   "id": "c6d96528",
   "metadata": {},
   "outputs": [
    {
     "data": {
      "text/plain": [
       "gender\n",
       "Men       878\n",
       "Women     560\n",
       "dtype: int64"
      ]
     },
     "execution_count": 19,
     "metadata": {},
     "output_type": "execute_result"
    }
   ],
   "source": [
    "data.value_counts([\"gender\"])\n"
   ]
  },
  {
   "cell_type": "code",
   "execution_count": 55,
   "id": "d3a31264",
   "metadata": {},
   "outputs": [],
   "source": [
    "data = data[['bodyweight', 'total']]"
   ]
  },
  {
   "cell_type": "code",
   "execution_count": 56,
   "id": "54c82c22",
   "metadata": {},
   "outputs": [
    {
     "data": {
      "text/html": [
       "<div>\n",
       "<style scoped>\n",
       "    .dataframe tbody tr th:only-of-type {\n",
       "        vertical-align: middle;\n",
       "    }\n",
       "\n",
       "    .dataframe tbody tr th {\n",
       "        vertical-align: top;\n",
       "    }\n",
       "\n",
       "    .dataframe thead th {\n",
       "        text-align: right;\n",
       "    }\n",
       "</style>\n",
       "<table border=\"1\" class=\"dataframe\">\n",
       "  <thead>\n",
       "    <tr style=\"text-align: right;\">\n",
       "      <th></th>\n",
       "      <th>bodyweight</th>\n",
       "      <th>total</th>\n",
       "    </tr>\n",
       "  </thead>\n",
       "  <tbody>\n",
       "    <tr>\n",
       "      <th>count</th>\n",
       "      <td>1233.000000</td>\n",
       "      <td>1233.000000</td>\n",
       "    </tr>\n",
       "    <tr>\n",
       "      <th>mean</th>\n",
       "      <td>174.301298</td>\n",
       "      <td>644.707664</td>\n",
       "    </tr>\n",
       "    <tr>\n",
       "      <th>std</th>\n",
       "      <td>57.797515</td>\n",
       "      <td>173.171361</td>\n",
       "    </tr>\n",
       "    <tr>\n",
       "      <th>min</th>\n",
       "      <td>102.664800</td>\n",
       "      <td>249.165000</td>\n",
       "    </tr>\n",
       "    <tr>\n",
       "      <th>25%</th>\n",
       "      <td>134.284500</td>\n",
       "      <td>496.125000</td>\n",
       "    </tr>\n",
       "    <tr>\n",
       "      <th>50%</th>\n",
       "      <td>158.319000</td>\n",
       "      <td>635.040000</td>\n",
       "    </tr>\n",
       "    <tr>\n",
       "      <th>75%</th>\n",
       "      <td>205.285500</td>\n",
       "      <td>788.287500</td>\n",
       "    </tr>\n",
       "    <tr>\n",
       "      <th>max</th>\n",
       "      <td>390.285000</td>\n",
       "      <td>1076.040000</td>\n",
       "    </tr>\n",
       "  </tbody>\n",
       "</table>\n",
       "</div>"
      ],
      "text/plain": [
       "        bodyweight        total\n",
       "count  1233.000000  1233.000000\n",
       "mean    174.301298   644.707664\n",
       "std      57.797515   173.171361\n",
       "min     102.664800   249.165000\n",
       "25%     134.284500   496.125000\n",
       "50%     158.319000   635.040000\n",
       "75%     205.285500   788.287500\n",
       "max     390.285000  1076.040000"
      ]
     },
     "execution_count": 56,
     "metadata": {},
     "output_type": "execute_result"
    }
   ],
   "source": [
    "data.describe()"
   ]
  },
  {
   "cell_type": "code",
   "execution_count": 57,
   "id": "e5b1a44a",
   "metadata": {},
   "outputs": [],
   "source": [
    "data = data[data.total > 5]\n",
    "data = data[data.bodyweight > 5]"
   ]
  },
  {
   "cell_type": "code",
   "execution_count": 58,
   "id": "9df3caa8",
   "metadata": {},
   "outputs": [],
   "source": [
    "data['bodyweight'] = data['bodyweight'] * 2.205"
   ]
  },
  {
   "cell_type": "code",
   "execution_count": 59,
   "id": "945dbed0",
   "metadata": {},
   "outputs": [],
   "source": [
    "data['total'] = data['total'] * 2.205"
   ]
  },
  {
   "cell_type": "code",
   "execution_count": 60,
   "id": "d0e08ce7",
   "metadata": {},
   "outputs": [
    {
     "data": {
      "text/html": [
       "<div>\n",
       "<style scoped>\n",
       "    .dataframe tbody tr th:only-of-type {\n",
       "        vertical-align: middle;\n",
       "    }\n",
       "\n",
       "    .dataframe tbody tr th {\n",
       "        vertical-align: top;\n",
       "    }\n",
       "\n",
       "    .dataframe thead th {\n",
       "        text-align: right;\n",
       "    }\n",
       "</style>\n",
       "<table border=\"1\" class=\"dataframe\">\n",
       "  <thead>\n",
       "    <tr style=\"text-align: right;\">\n",
       "      <th></th>\n",
       "      <th>bodyweight</th>\n",
       "      <th>total</th>\n",
       "    </tr>\n",
       "  </thead>\n",
       "  <tbody>\n",
       "    <tr>\n",
       "      <th>0</th>\n",
       "      <td>270.425831</td>\n",
       "      <td>1482.917625</td>\n",
       "    </tr>\n",
       "    <tr>\n",
       "      <th>1</th>\n",
       "      <td>269.745147</td>\n",
       "      <td>1397.832188</td>\n",
       "    </tr>\n",
       "    <tr>\n",
       "      <th>2</th>\n",
       "      <td>271.981679</td>\n",
       "      <td>1397.832188</td>\n",
       "    </tr>\n",
       "    <tr>\n",
       "      <th>3</th>\n",
       "      <td>269.258945</td>\n",
       "      <td>1385.677125</td>\n",
       "    </tr>\n",
       "    <tr>\n",
       "      <th>4</th>\n",
       "      <td>270.620312</td>\n",
       "      <td>1337.056875</td>\n",
       "    </tr>\n",
       "  </tbody>\n",
       "</table>\n",
       "</div>"
      ],
      "text/plain": [
       "   bodyweight        total\n",
       "0  270.425831  1482.917625\n",
       "1  269.745147  1397.832188\n",
       "2  271.981679  1397.832188\n",
       "3  269.258945  1385.677125\n",
       "4  270.620312  1337.056875"
      ]
     },
     "execution_count": 60,
     "metadata": {},
     "output_type": "execute_result"
    }
   ],
   "source": [
    "data.head()"
   ]
  },
  {
   "cell_type": "code",
   "execution_count": 62,
   "id": "38ed5426",
   "metadata": {},
   "outputs": [
    {
     "data": {
      "text/plain": [
       "<seaborn.axisgrid.PairGrid at 0x7fb00d469bb0>"
      ]
     },
     "execution_count": 62,
     "metadata": {},
     "output_type": "execute_result"
    },
    {
     "data": {
      "image/png": "[encoded data removed]",
      "text/plain": [
       "<Figure size 360x360 with 6 Axes>"
      ]
     },
     "metadata": {
      "needs_background": "light"
     },
     "output_type": "display_data"
    }
   ],
   "source": [
    "#gain intuition of potential correlations\n",
    "sns.pairplot(data[['bodyweight','total']])"
   ]
  },
  {
   "cell_type": "code",
   "execution_count": 63,
   "id": "2418b736",
   "metadata": {},
   "outputs": [],
   "source": [
    "X = data[['bodyweight']]\n",
    "Y = data[['total']]\n"
   ]
  },
  {
   "cell_type": "code",
   "execution_count": 64,
   "id": "a0d7a4fe",
   "metadata": {},
   "outputs": [
    {
     "data": {
      "text/plain": [
       "<function matplotlib.pyplot.show(close=None, block=None)>"
      ]
     },
     "execution_count": 64,
     "metadata": {},
     "output_type": "execute_result"
    },
    {
     "data": {
      "image/png": "[encoded data removed]",
      "text/plain": [
       "<Figure size 432x288 with 1 Axes>"
      ]
     },
     "metadata": {
      "needs_background": "light"
     },
     "output_type": "display_data"
    }
   ],
   "source": [
    "plt.scatter(X,Y)\n",
    "plt.xlabel(\"bodyweight\")\n",
    "plt.ylabel(\"Total pounds lifted\")\n",
    "plt.show\n",
    "\n"
   ]
  },
  {
   "cell_type": "code",
   "execution_count": 65,
   "id": "db2ba74c",
   "metadata": {},
   "outputs": [],
   "source": [
    "model = LinearRegression()"
   ]
  },
  {
   "cell_type": "code",
   "execution_count": 66,
   "id": "3b27f07a",
   "metadata": {},
   "outputs": [
    {
     "data": {
      "text/plain": [
       "LinearRegression()"
      ]
     },
     "execution_count": 66,
     "metadata": {},
     "output_type": "execute_result"
    }
   ],
   "source": [
    "model.fit(X,Y)"
   ]
  },
  {
   "cell_type": "code",
   "execution_count": 67,
   "id": "3966c772",
   "metadata": {},
   "outputs": [],
   "source": [
    "lbs = 200\n",
    "X_test = np.array(lbs)\n",
    "X_test = X_test.reshape((1,-1))"
   ]
  },
  {
   "cell_type": "code",
   "execution_count": 68,
   "id": "37f98587",
   "metadata": {},
   "outputs": [
    {
     "name": "stderr",
     "output_type": "stream",
     "text": [
      "/Users/francis/opt/miniconda3/envs/test/lib/python3.9/site-packages/sklearn/base.py:441: UserWarning: X does not have valid feature names, but LinearRegression was fitted with feature names\n",
      "  warnings.warn(\n"
     ]
    },
    {
     "data": {
      "text/plain": [
       "array([[1030.64153522]])"
      ]
     },
     "execution_count": 68,
     "metadata": {},
     "output_type": "execute_result"
    }
   ],
   "source": [
    "model.predict(X_test)"
   ]
  }
 ],
 "metadata": {
  "kernelspec": {
   "display_name": "Python 3 (ipykernel)",
   "language": "python",
   "name": "python3"
  },
  "language_info": {
   "codemirror_mode": {
    "name": "ipython",
    "version": 3
   },
   "file_extension": ".py",
   "mimetype": "text/x-python",
   "name": "python",
   "nbconvert_exporter": "python",
   "pygments_lexer": "ipython3",
   "version": "3.9.7"
  }
 },
 "nbformat": 4,
 "nbformat_minor": 5
}
